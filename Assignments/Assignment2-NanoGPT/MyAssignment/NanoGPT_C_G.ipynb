{
 "cells": [
  {
   "cell_type": "code",
   "execution_count": 1,
   "metadata": {},
   "outputs": [],
   "source": [
    "import torch\n",
    "import torch.nn as nn\n",
    "from torch.nn import functional as F\n",
    "import time"
   ]
  },
  {
   "cell_type": "code",
   "execution_count": 2,
   "metadata": {},
   "outputs": [],
   "source": [
    "# hyperparameters\n",
    "batch_size = 16 # how many independent sequences will we process in parallel?\n",
    "block_size = 32 # what is the maximum context length for predictions?\n",
    "max_iters = 5000\n",
    "eval_interval = 100\n",
    "learning_rate = 1e-3\n",
    "device = 'cuda' if torch.cuda.is_available() else 'cpu'\n",
    "eval_iters = 200\n",
    "n_embd = 64\n",
    "n_head = 4\n",
    "n_layer = 4\n",
    "dropout = 0.0\n",
    "# "
   ]
  },
  {
   "cell_type": "code",
   "execution_count": 3,
   "metadata": {},
   "outputs": [
    {
     "data": {
      "text/plain": [
       "<torch._C.Generator at 0x7f914a72ce50>"
      ]
     },
     "execution_count": 3,
     "metadata": {},
     "output_type": "execute_result"
    }
   ],
   "source": [
    "torch.manual_seed(1337)"
   ]
  },
  {
   "cell_type": "code",
   "execution_count": 4,
   "metadata": {},
   "outputs": [],
   "source": [
    "# wget https://raw.githubusercontent.com/karpathy/char-rnn/master/data/tinyshakespeare/input.txt\n",
    "with open('input.txt', 'r', encoding='utf-8') as f:\n",
    "    text = f.read()"
   ]
  },
  {
   "cell_type": "code",
   "execution_count": 5,
   "metadata": {},
   "outputs": [
    {
     "name": "stdout",
     "output_type": "stream",
     "text": [
      "Some characters: [':', ';', '?', 'A', 'B', 'C', 'D', 'E', 'F', 'G']\n",
      "vocab_size: 65\n"
     ]
    }
   ],
   "source": [
    "# here are all the unique characters that occur in this text\n",
    "chars = sorted(list(set(text)))\n",
    "vocab_size = len(chars)\n",
    "# create a mapping from characters to integers\n",
    "stoi = { ch:i for i,ch in enumerate(chars) }\n",
    "itos = { i:ch for i,ch in enumerate(chars) }\n",
    "encode = lambda s: [stoi[c] for c in s] # encoder: take a string, output a list of integers\n",
    "decode = lambda l: ''.join([itos[i] for i in l]) # decoder: take a list of integers, output a string\n",
    "\n",
    "print(f'Some characters: {chars[10:20]}')\n",
    "print(f'vocab_size: {vocab_size}')"
   ]
  },
  {
   "cell_type": "code",
   "execution_count": 6,
   "metadata": {},
   "outputs": [
    {
     "name": "stdout",
     "output_type": "stream",
     "text": [
      "tensor([18, 47, 56,  ..., 52, 45,  8])\n"
     ]
    }
   ],
   "source": [
    "# Train and test splits\n",
    "data = torch.tensor(encode(text), dtype=torch.long)\n",
    "print(data)\n",
    "n = int(0.9*len(data)) # first 90% will be train, rest val\n",
    "train_data = data[:n]\n",
    "val_data = data[n:]"
   ]
  },
  {
   "cell_type": "code",
   "execution_count": 7,
   "metadata": {},
   "outputs": [],
   "source": [
    "# data loading\n",
    "def get_batch(split):\n",
    "    # generate a small batch of data of inputs x and targets y\n",
    "    data = train_data if split == 'train' else val_data\n",
    "    ix = torch.randint(len(data) - block_size, (batch_size,))\n",
    "    x = torch.stack([data[i:i+block_size] for i in ix])\n",
    "    y = torch.stack([data[i+1:i+block_size+1] for i in ix])\n",
    "    x, y = x.to(device), y.to(device)\n",
    "    return x, y"
   ]
  },
  {
   "cell_type": "code",
   "execution_count": 8,
   "metadata": {},
   "outputs": [],
   "source": [
    "@torch.no_grad()\n",
    "def estimate_loss():\n",
    "    out = {}\n",
    "    model.eval()\n",
    "    for split in ['train', 'val']:\n",
    "        losses = torch.zeros(eval_iters)\n",
    "        perplexities = torch.zeros(eval_iters)\n",
    "        for k in range(eval_iters):\n",
    "            X, Y = get_batch(split)\n",
    "            logits, loss = model(X, Y)\n",
    "            losses[k] = loss.item()\n",
    "            perplexities[k] = torch.exp(loss).item()\n",
    "        # out[split] = losses.mean()\n",
    "        out[split + '_loss'] = losses.mean()\n",
    "        out[split + '_perplexity'] = perplexities.mean()\n",
    "    model.train()\n",
    "    return out\n",
    "\n",
    "class Head(nn.Module):\n",
    "    \"\"\" one head of self-attention \"\"\"\n",
    "\n",
    "    def __init__(self, head_size):\n",
    "        super().__init__()\n",
    "        self.key = nn.Linear(n_embd, head_size, bias=False)\n",
    "        self.query = nn.Linear(n_embd, head_size, bias=False)\n",
    "        self.value = nn.Linear(n_embd, head_size, bias=False)\n",
    "        self.register_buffer('tril', torch.tril(torch.ones(block_size, block_size)))\n",
    "\n",
    "        self.dropout = nn.Dropout(dropout)\n",
    "\n",
    "    def forward(self, x):\n",
    "        B,T,C = x.shape\n",
    "        k = self.key(x)   # (B,T,C)\n",
    "        q = self.query(x) # (B,T,C)\n",
    "        # compute attention scores (\"affinities\")\n",
    "        wei = q @ k.transpose(-2,-1) * C**-0.5 # (B, T, C) @ (B, C, T) -> (B, T, T)\n",
    "        wei = wei.masked_fill(self.tril[:T, :T] == 0, float('-inf')) # (B, T, T)\n",
    "        wei = F.softmax(wei, dim=-1) # (B, T, T)\n",
    "        wei = self.dropout(wei)\n",
    "        # perform the weighted aggregation of the values\n",
    "        v = self.value(x) # (B,T,C)\n",
    "        out = wei @ v # (B, T, T) @ (B, T, C) -> (B, T, C)\n",
    "        return out\n",
    "\n",
    "class MultiHeadAttention(nn.Module):\n",
    "    \"\"\" multiple heads of self-attention in parallel \"\"\"\n",
    "\n",
    "    def __init__(self, num_heads, head_size):\n",
    "        super().__init__()\n",
    "        self.heads = nn.ModuleList([Head(head_size) for _ in range(num_heads)])\n",
    "        self.proj = nn.Linear(n_embd, n_embd)\n",
    "        self.dropout = nn.Dropout(dropout)\n",
    "\n",
    "    def forward(self, x):\n",
    "        out = torch.cat([h(x) for h in self.heads], dim=-1)\n",
    "        out = self.dropout(self.proj(out))\n",
    "        return out\n",
    "\n",
    "class FeedFoward(nn.Module):\n",
    "    \"\"\" a simple linear layer followed by a non-linearity \"\"\"\n",
    "\n",
    "    def __init__(self, n_embd):\n",
    "        super().__init__()\n",
    "        self.net = nn.Sequential(\n",
    "            nn.Linear(n_embd, 4 * n_embd),\n",
    "            nn.GELU(),\n",
    "            nn.Linear(4 * n_embd, n_embd),\n",
    "            nn.Dropout(dropout),\n",
    "        )\n",
    "\n",
    "    def forward(self, x):\n",
    "        return self.net(x)\n",
    "\n",
    "class Block(nn.Module):\n",
    "    \"\"\" Transformer block: communication followed by computation \"\"\"\n",
    "\n",
    "    def __init__(self, n_embd, n_head):\n",
    "        # n_embd: embedding dimension, n_head: the number of heads we'd like\n",
    "        super().__init__()\n",
    "        head_size = n_embd // n_head\n",
    "        self.sa = MultiHeadAttention(n_head, head_size)\n",
    "        self.ffwd = FeedFoward(n_embd)\n",
    "        self.ln1 = nn.LayerNorm(n_embd)\n",
    "        self.ln2 = nn.LayerNorm(n_embd)\n",
    "\n",
    "    def forward(self, x):\n",
    "        x = x + self.sa(self.ln1(x))\n",
    "        x = x + self.ffwd(self.ln2(x))\n",
    "        return x\n",
    "\n",
    "# super simple bigram model\n",
    "class BigramLanguageModel(nn.Module):\n",
    "\n",
    "    def __init__(self):\n",
    "        super().__init__()\n",
    "        # each token directly reads off the logits for the next token from a lookup table\n",
    "        self.token_embedding_table = nn.Embedding(vocab_size, n_embd)\n",
    "        self.position_embedding_table = nn.Embedding(block_size, n_embd)\n",
    "        self.blocks = nn.Sequential(*[Block(n_embd, n_head=n_head) for _ in range(n_layer)])\n",
    "        self.ln_f = nn.LayerNorm(n_embd) # final layer norm\n",
    "        self.lm_head = nn.Linear(n_embd, vocab_size)\n",
    "\n",
    "    def forward(self, idx, targets=None):\n",
    "        B, T = idx.shape\n",
    "\n",
    "        # idx and targets are both (B,T) tensor of integers\n",
    "        tok_emb = self.token_embedding_table(idx) # (B,T,C)\n",
    "        pos_emb = self.position_embedding_table(torch.arange(T, device=device)) # (T,C)\n",
    "        x = tok_emb + pos_emb # (B,T,C)\n",
    "        x = self.blocks(x) # (B,T,C)\n",
    "        x = self.ln_f(x) # (B,T,C)\n",
    "        logits = self.lm_head(x) # (B,T,vocab_size)\n",
    "\n",
    "        if targets is None:\n",
    "            loss = None\n",
    "        else:\n",
    "            B, T, C = logits.shape\n",
    "            logits = logits.view(B*T, C)\n",
    "            targets = targets.view(B*T)\n",
    "            loss = F.cross_entropy(logits, targets)\n",
    "\n",
    "        return logits, loss\n",
    "\n",
    "    def generate(self, idx, max_new_tokens):\n",
    "        # idx is (B, T) array of indices in the current context\n",
    "        for _ in range(max_new_tokens):\n",
    "            # crop idx to the last block_size tokens\n",
    "            idx_cond = idx[:, -block_size:]\n",
    "            # get the predictions\n",
    "            logits, loss = self(idx_cond)\n",
    "            # focus only on the last time step\n",
    "            logits = logits[:, -1, :] # becomes (B, C)\n",
    "            # apply softmax to get probabilities\n",
    "            probs = F.softmax(logits, dim=-1) # (B, C)\n",
    "            # sample from the distribution\n",
    "            idx_next = torch.multinomial(probs, num_samples=1) # (B, 1)\n",
    "            # append sampled index to the running sequence\n",
    "            idx = torch.cat((idx, idx_next), dim=1) # (B, T+1)\n",
    "        return idx"
   ]
  },
  {
   "cell_type": "code",
   "execution_count": 9,
   "metadata": {},
   "outputs": [
    {
     "name": "stdout",
     "output_type": "stream",
     "text": [
      "0.209729 M parameters\n"
     ]
    }
   ],
   "source": [
    "model = BigramLanguageModel()\n",
    "m = model.to(device)\n",
    "# print the number of parameters in the model\n",
    "print(sum(p.numel() for p in m.parameters())/1e6, 'M parameters')"
   ]
  },
  {
   "cell_type": "code",
   "execution_count": 10,
   "metadata": {},
   "outputs": [
    {
     "name": "stdout",
     "output_type": "stream",
     "text": [
      "step 0: train loss 4.4055, val loss 4.3958, train perplexity 81.9334, val perplexity 81.1392\n",
      "step 100: train loss 2.6370, val loss 2.6421, train perplexity 13.9947, val perplexity 14.0682\n",
      "step 200: train loss 2.5076, val loss 2.4998, train perplexity 12.2909, val perplexity 12.1998\n",
      "step 300: train loss 2.4097, val loss 2.4229, train perplexity 11.1458, val perplexity 11.2987\n",
      "step 400: train loss 2.3463, val loss 2.3635, train perplexity 10.4629, val perplexity 10.6497\n",
      "step 500: train loss 2.2986, val loss 2.3179, train perplexity 9.9750, val perplexity 10.1720\n",
      "step 600: train loss 2.2551, val loss 2.2630, train perplexity 9.5528, val perplexity 9.6307\n",
      "step 700: train loss 2.2023, val loss 2.2171, train perplexity 9.0636, val perplexity 9.2019\n",
      "step 800: train loss 2.1552, val loss 2.1884, train perplexity 8.6438, val perplexity 8.9392\n",
      "step 900: train loss 2.1357, val loss 2.1489, train perplexity 8.4810, val perplexity 8.5907\n",
      "step 1000: train loss 2.0891, val loss 2.1216, train perplexity 8.0954, val perplexity 8.3608\n",
      "step 1100: train loss 2.0526, val loss 2.1086, train perplexity 7.8068, val perplexity 8.2545\n",
      "step 1200: train loss 2.0291, val loss 2.0816, train perplexity 7.6241, val perplexity 8.0356\n",
      "step 1300: train loss 2.0023, val loss 2.0488, train perplexity 7.4198, val perplexity 7.7764\n",
      "step 1400: train loss 1.9807, val loss 2.0292, train perplexity 7.2633, val perplexity 7.6231\n",
      "step 1500: train loss 1.9692, val loss 2.0259, train perplexity 7.1805, val perplexity 7.5996\n",
      "step 1600: train loss 1.9490, val loss 2.0228, train perplexity 7.0406, val perplexity 7.5815\n",
      "step 1700: train loss 1.9200, val loss 2.0054, train perplexity 6.8379, val perplexity 7.4488\n",
      "step 1800: train loss 1.9047, val loss 2.0039, train perplexity 6.7357, val perplexity 7.4373\n",
      "step 1900: train loss 1.8919, val loss 1.9705, train perplexity 6.6480, val perplexity 7.1969\n",
      "step 2000: train loss 1.8871, val loss 1.9756, train perplexity 6.6191, val perplexity 7.2284\n",
      "step 2100: train loss 1.8615, val loss 1.9608, train perplexity 6.4500, val perplexity 7.1218\n",
      "step 2200: train loss 1.8591, val loss 1.9610, train perplexity 6.4346, val perplexity 7.1277\n",
      "step 2300: train loss 1.8309, val loss 1.9422, train perplexity 6.2561, val perplexity 6.9908\n",
      "step 2400: train loss 1.8230, val loss 1.9275, train perplexity 6.2061, val perplexity 6.8889\n",
      "step 2500: train loss 1.8127, val loss 1.9285, train perplexity 6.1429, val perplexity 6.8976\n",
      "step 2600: train loss 1.7977, val loss 1.9224, train perplexity 6.0541, val perplexity 6.8620\n",
      "step 2700: train loss 1.7837, val loss 1.9243, train perplexity 5.9680, val perplexity 6.8688\n",
      "step 2800: train loss 1.7671, val loss 1.9070, train perplexity 5.8671, val perplexity 6.7534\n",
      "step 2900: train loss 1.7746, val loss 1.9156, train perplexity 5.9202, val perplexity 6.8114\n",
      "step 3000: train loss 1.7582, val loss 1.8952, train perplexity 5.8169, val perplexity 6.6752\n",
      "step 3100: train loss 1.7508, val loss 1.8814, train perplexity 5.7783, val perplexity 6.5815\n",
      "step 3200: train loss 1.7379, val loss 1.8736, train perplexity 5.6995, val perplexity 6.5346\n",
      "step 3300: train loss 1.7332, val loss 1.8700, train perplexity 5.6775, val perplexity 6.5082\n",
      "step 3400: train loss 1.7329, val loss 1.8694, train perplexity 5.6738, val perplexity 6.5068\n",
      "step 3500: train loss 1.7238, val loss 1.8704, train perplexity 5.6224, val perplexity 6.5122\n",
      "step 3600: train loss 1.7201, val loss 1.8645, train perplexity 5.6071, val perplexity 6.4739\n",
      "step 3700: train loss 1.7181, val loss 1.8625, train perplexity 5.5901, val perplexity 6.4595\n",
      "step 3800: train loss 1.7108, val loss 1.8701, train perplexity 5.5472, val perplexity 6.5052\n",
      "step 3900: train loss 1.6946, val loss 1.8399, train perplexity 5.4594, val perplexity 6.3186\n",
      "step 4000: train loss 1.6873, val loss 1.8414, train perplexity 5.4193, val perplexity 6.3274\n",
      "step 4100: train loss 1.6970, val loss 1.8224, train perplexity 5.4753, val perplexity 6.2096\n",
      "step 4200: train loss 1.6912, val loss 1.8398, train perplexity 5.4394, val perplexity 6.3168\n",
      "step 4300: train loss 1.6815, val loss 1.8168, train perplexity 5.3881, val perplexity 6.1713\n",
      "step 4400: train loss 1.6749, val loss 1.8380, train perplexity 5.3503, val perplexity 6.3056\n",
      "step 4500: train loss 1.6690, val loss 1.8205, train perplexity 5.3218, val perplexity 6.1959\n",
      "step 4600: train loss 1.6686, val loss 1.8103, train perplexity 5.3190, val perplexity 6.1366\n",
      "step 4700: train loss 1.6712, val loss 1.8108, train perplexity 5.3336, val perplexity 6.1383\n",
      "step 4800: train loss 1.6587, val loss 1.8161, train perplexity 5.2676, val perplexity 6.1714\n",
      "step 4900: train loss 1.6585, val loss 1.8189, train perplexity 5.2671, val perplexity 6.1870\n",
      "step 4999: train loss 1.6559, val loss 1.8026, train perplexity 5.2523, val perplexity 6.0908\n"
     ]
    }
   ],
   "source": [
    "# create a PyTorch optimizer\n",
    "optimizer = torch.optim.AdamW(model.parameters(), lr=learning_rate)\n",
    "\n",
    "start_time = time.time()\n",
    "for iter in range(max_iters):\n",
    "\n",
    "    # every once in a while evaluate the loss on train and val sets\n",
    "    if iter % eval_interval == 0 or iter == max_iters - 1:\n",
    "        losses = estimate_loss()\n",
    "        print(f\"step {iter}: train loss {losses['train_loss']:.4f}, val loss {losses['val_loss']:.4f}, train perplexity {losses['train_perplexity']:.4f}, val perplexity {losses['val_perplexity']:.4f}\")\n",
    "\n",
    "\n",
    "    # sample a batch of data\n",
    "    xb, yb = get_batch('train')\n",
    "\n",
    "    # evaluate the loss\n",
    "    logits, loss = model(xb, yb)\n",
    "    optimizer.zero_grad(set_to_none=True)\n",
    "    loss.backward()\n",
    "    optimizer.step()\n",
    "\n",
    "end_time = time.time()"
   ]
  },
  {
   "cell_type": "code",
   "execution_count": 11,
   "metadata": {},
   "outputs": [],
   "source": [
    "training_time = end_time - start_time"
   ]
  },
  {
   "cell_type": "code",
   "execution_count": 12,
   "metadata": {},
   "outputs": [
    {
     "name": "stdout",
     "output_type": "stream",
     "text": [
      "\n",
      "When before we will be on, by madest my been ench.\n",
      "One my called\n",
      "My art that usquit tetyard that ane away, my fearst,\n",
      "Anzokong and sproof in heart my would\n",
      "As egriteets, I in ladiest drovets, and\n",
      "Will may is warmsnel lind me hither;\n",
      "Hone my spray have plew you love.\n",
      "I may pater'dly homen sword of again Windo why, evings with thourn,\n",
      "The hopent to-out were thume kindn,\n",
      "Turt fir armight would with all gate,\n",
      "Madarry grong my friar and tooblian\n",
      "Ards brings gressenting must arand\n",
      "His-hast hand followden pardoked,\n",
      "By thou contracess of a cemongerennomes.\n",
      "\n",
      "LADIO:\n",
      "Was may, must he will we condent of courfecty should sol.\n",
      "\n",
      "AUCHARDIO:\n",
      "May well, hazand's hearly to-much socce, I sir, iver some so upon surrace, banes:\n",
      "What's, nother night, sid, I come, xut thy chirbank\n",
      "that fraving we mes sleving manne of the welcont.\n",
      "\n",
      "QUEEN FirshIne, his I in have brother,\n",
      "That teyres the ooften God? orn men e summon aportan's what thangrahbought.\n",
      "\n",
      "BRUTUS:\n",
      "\n",
      "Precovost, why it.\n",
      "\n",
      "BENVINCENTIO:\n",
      "Ha\n",
      "ir fare;\n",
      "To know our hertanned, we softent, QueHEne;\n",
      "Whut Mad convery, servents to Edway?\n",
      "\n",
      "HENRY BOLINCESS:\n",
      "Or we minds so mentlesing yet fetter-greming as whide,\n",
      "And what good himselI hast a canin call as ince any\n",
      "inkend doth only mornien Regreceity natter have earth.\n",
      "\n",
      "GEORSTENV:\n",
      "Had'sill! wheremorral brook! trancomer, not just the voint.\n",
      "\n",
      "KING Of EDHARD III:\n",
      "Third his; do belothy done's a quiven murds begrages.\n",
      "Whichbint Rither, must that sweet;\n",
      "By the and unto may'd from your gelight:\n",
      "He yet our soner wholess erepons; sir!\n",
      "\n",
      "BENENIUS:\n",
      "What, say, as; for but of a-hath\n",
      "a may nother been when seem\n",
      "Of risting breven, years my hamberd's parry him.\n",
      "\n",
      "LEONTES:\n",
      "O, manry her arm'd,\n",
      "Gar I was thathe courseht shemorastion;\n",
      "\n",
      "Becausan have blay not, there wife\n",
      "OUe servant, hearry, thou watch monge,\n",
      "As laret he king the wouch armparged of at burses hone:\n",
      "Invelied he punish winds to thee, of the queestens yeter, prozen!\n",
      "No, and sengrantaghat welcome, not is Parparling: Inkin shall'd for and\n",
      "A suppeconer'd brike of\n",
      "Marr\n"
     ]
    }
   ],
   "source": [
    "# generate from the model\n",
    "context = torch.zeros((1, 1), dtype=torch.long, device=device)\n",
    "print(decode(m.generate(context, max_new_tokens=2000)[0].tolist()))"
   ]
  },
  {
   "cell_type": "code",
   "execution_count": 13,
   "metadata": {},
   "outputs": [],
   "source": [
    "def generate_sample(model, seed_text, max_new_tokens=100):\n",
    "    context = torch.tensor([encode(seed_text)], dtype=torch.long, device=device)\n",
    "    return decode(model.generate(context, max_new_tokens=max_new_tokens)[0].tolist())\n",
    "\n",
    "sample_text = generate_sample(model, \"The quick brown fox\")"
   ]
  },
  {
   "cell_type": "code",
   "execution_count": 14,
   "metadata": {},
   "outputs": [
    {
     "name": "stdout",
     "output_type": "stream",
     "text": [
      "Training Time: 159.06080150604248\n",
      "The quick brown foxs; even,\n",
      "And that him lost that thyself,\n",
      "Arest Graciong King slack malantic the enemble,\n",
      "Beconnerd u\n"
     ]
    }
   ],
   "source": [
    "\n",
    "print(f\"Training Time: {training_time}\")\n",
    "print(sample_text)"
   ]
  }
 ],
 "metadata": {
  "kernelspec": {
   "display_name": "tf-dev",
   "language": "python",
   "name": "python3"
  },
  "language_info": {
   "codemirror_mode": {
    "name": "ipython",
    "version": 3
   },
   "file_extension": ".py",
   "mimetype": "text/x-python",
   "name": "python",
   "nbconvert_exporter": "python",
   "pygments_lexer": "ipython3",
   "version": "3.9.19"
  }
 },
 "nbformat": 4,
 "nbformat_minor": 2
}
