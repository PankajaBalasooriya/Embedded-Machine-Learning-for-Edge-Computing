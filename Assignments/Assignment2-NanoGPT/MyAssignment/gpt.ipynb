{
 "cells": [
  {
   "cell_type": "code",
   "execution_count": 1,
   "metadata": {},
   "outputs": [],
   "source": [
    "import torch\n",
    "import torch.nn as nn\n",
    "from torch.nn import functional as F\n",
    "import time"
   ]
  },
  {
   "cell_type": "code",
   "execution_count": 2,
   "metadata": {},
   "outputs": [],
   "source": [
    "# hyperparameters\n",
    "batch_size = 16 # how many independent sequences will we process in parallel?\n",
    "block_size = 32 # what is the maximum context length for predictions?\n",
    "max_iters = 5000\n",
    "eval_interval = 100\n",
    "learning_rate = 1e-3\n",
    "device = 'cuda' if torch.cuda.is_available() else 'cpu'\n",
    "eval_iters = 200\n",
    "n_embd = 64\n",
    "n_head = 4\n",
    "n_layer = 4\n",
    "dropout = 0.0\n",
    "# "
   ]
  },
  {
   "cell_type": "code",
   "execution_count": 3,
   "metadata": {},
   "outputs": [
    {
     "data": {
      "text/plain": [
       "<torch._C.Generator at 0x7fafdd329f70>"
      ]
     },
     "execution_count": 3,
     "metadata": {},
     "output_type": "execute_result"
    }
   ],
   "source": [
    "torch.manual_seed(1337)"
   ]
  },
  {
   "cell_type": "code",
   "execution_count": 4,
   "metadata": {},
   "outputs": [],
   "source": [
    "# wget https://raw.githubusercontent.com/karpathy/char-rnn/master/data/tinyshakespeare/input.txt\n",
    "with open('input.txt', 'r', encoding='utf-8') as f:\n",
    "    text = f.read()"
   ]
  },
  {
   "cell_type": "code",
   "execution_count": 8,
   "metadata": {},
   "outputs": [
    {
     "name": "stdout",
     "output_type": "stream",
     "text": [
      "Some characters: [':', ';', '?', 'A', 'B', 'C', 'D', 'E', 'F', 'G']\n",
      "vocab_size: 65\n"
     ]
    }
   ],
   "source": [
    "# here are all the unique characters that occur in this text\n",
    "chars = sorted(list(set(text)))\n",
    "vocab_size = len(chars)\n",
    "# create a mapping from characters to integers\n",
    "stoi = { ch:i for i,ch in enumerate(chars) }\n",
    "itos = { i:ch for i,ch in enumerate(chars) }\n",
    "encode = lambda s: [stoi[c] for c in s] # encoder: take a string, output a list of integers\n",
    "decode = lambda l: ''.join([itos[i] for i in l]) # decoder: take a list of integers, output a string\n",
    "\n",
    "print(f'Some characters: {chars[10:20]}')\n",
    "print(f'vocab_size: {vocab_size}')"
   ]
  },
  {
   "cell_type": "code",
   "execution_count": 9,
   "metadata": {},
   "outputs": [
    {
     "name": "stdout",
     "output_type": "stream",
     "text": [
      "tensor([18, 47, 56,  ..., 52, 45,  8])\n"
     ]
    }
   ],
   "source": [
    "# Train and test splits\n",
    "data = torch.tensor(encode(text), dtype=torch.long)\n",
    "print(data)\n",
    "n = int(0.9*len(data)) # first 90% will be train, rest val\n",
    "train_data = data[:n]\n",
    "val_data = data[n:]"
   ]
  },
  {
   "cell_type": "code",
   "execution_count": 10,
   "metadata": {},
   "outputs": [],
   "source": [
    "# data loading\n",
    "def get_batch(split):\n",
    "    # generate a small batch of data of inputs x and targets y\n",
    "    data = train_data if split == 'train' else val_data\n",
    "    ix = torch.randint(len(data) - block_size, (batch_size,))\n",
    "    x = torch.stack([data[i:i+block_size] for i in ix])\n",
    "    y = torch.stack([data[i+1:i+block_size+1] for i in ix])\n",
    "    x, y = x.to(device), y.to(device)\n",
    "    return x, y"
   ]
  },
  {
   "cell_type": "code",
   "execution_count": 11,
   "metadata": {},
   "outputs": [],
   "source": [
    "@torch.no_grad()\n",
    "def estimate_loss():\n",
    "    out = {}\n",
    "    model.eval()\n",
    "    for split in ['train', 'val']:\n",
    "        losses = torch.zeros(eval_iters)\n",
    "        perplexities = torch.zeros(eval_iters)\n",
    "        for k in range(eval_iters):\n",
    "            X, Y = get_batch(split)\n",
    "            logits, loss = model(X, Y)\n",
    "            losses[k] = loss.item()\n",
    "            perplexities[k] = torch.exp(loss).item()\n",
    "        # out[split] = losses.mean()\n",
    "        out[split + '_loss'] = losses.mean()\n",
    "        out[split + '_perplexity'] = perplexities.mean()\n",
    "    model.train()\n",
    "    return out\n",
    "\n",
    "class Head(nn.Module):\n",
    "    \"\"\" one head of self-attention \"\"\"\n",
    "\n",
    "    def __init__(self, head_size):\n",
    "        super().__init__()\n",
    "        self.key = nn.Linear(n_embd, head_size, bias=False)\n",
    "        self.query = nn.Linear(n_embd, head_size, bias=False)\n",
    "        self.value = nn.Linear(n_embd, head_size, bias=False)\n",
    "        self.register_buffer('tril', torch.tril(torch.ones(block_size, block_size)))\n",
    "\n",
    "        self.dropout = nn.Dropout(dropout)\n",
    "\n",
    "    def forward(self, x):\n",
    "        B,T,C = x.shape\n",
    "        k = self.key(x)   # (B,T,C)\n",
    "        q = self.query(x) # (B,T,C)\n",
    "        # compute attention scores (\"affinities\")\n",
    "        wei = q @ k.transpose(-2,-1) * C**-0.5 # (B, T, C) @ (B, C, T) -> (B, T, T)\n",
    "        wei = wei.masked_fill(self.tril[:T, :T] == 0, float('-inf')) # (B, T, T)\n",
    "        wei = F.softmax(wei, dim=-1) # (B, T, T)\n",
    "        wei = self.dropout(wei)\n",
    "        # perform the weighted aggregation of the values\n",
    "        v = self.value(x) # (B,T,C)\n",
    "        out = wei @ v # (B, T, T) @ (B, T, C) -> (B, T, C)\n",
    "        return out\n",
    "\n",
    "class MultiHeadAttention(nn.Module):\n",
    "    \"\"\" multiple heads of self-attention in parallel \"\"\"\n",
    "\n",
    "    def __init__(self, num_heads, head_size):\n",
    "        super().__init__()\n",
    "        self.heads = nn.ModuleList([Head(head_size) for _ in range(num_heads)])\n",
    "        self.proj = nn.Linear(n_embd, n_embd)\n",
    "        self.dropout = nn.Dropout(dropout)\n",
    "\n",
    "    def forward(self, x):\n",
    "        out = torch.cat([h(x) for h in self.heads], dim=-1)\n",
    "        out = self.dropout(self.proj(out))\n",
    "        return out\n",
    "\n",
    "class FeedFoward(nn.Module):\n",
    "    \"\"\" a simple linear layer followed by a non-linearity \"\"\"\n",
    "\n",
    "    def __init__(self, n_embd):\n",
    "        super().__init__()\n",
    "        self.net = nn.Sequential(\n",
    "            nn.Linear(n_embd, 4 * n_embd),\n",
    "            nn.ReLU(),\n",
    "            nn.Linear(4 * n_embd, n_embd),\n",
    "            nn.Dropout(dropout),\n",
    "        )\n",
    "\n",
    "    def forward(self, x):\n",
    "        return self.net(x)\n",
    "\n",
    "class Block(nn.Module):\n",
    "    \"\"\" Transformer block: communication followed by computation \"\"\"\n",
    "\n",
    "    def __init__(self, n_embd, n_head):\n",
    "        # n_embd: embedding dimension, n_head: the number of heads we'd like\n",
    "        super().__init__()\n",
    "        head_size = n_embd // n_head\n",
    "        self.sa = MultiHeadAttention(n_head, head_size)\n",
    "        self.ffwd = FeedFoward(n_embd)\n",
    "        self.ln1 = nn.LayerNorm(n_embd)\n",
    "        self.ln2 = nn.LayerNorm(n_embd)\n",
    "\n",
    "    def forward(self, x):\n",
    "        x = x + self.sa(self.ln1(x))\n",
    "        x = x + self.ffwd(self.ln2(x))\n",
    "        return x\n",
    "\n",
    "# super simple bigram model\n",
    "class BigramLanguageModel(nn.Module):\n",
    "\n",
    "    def __init__(self):\n",
    "        super().__init__()\n",
    "        # each token directly reads off the logits for the next token from a lookup table\n",
    "        self.token_embedding_table = nn.Embedding(vocab_size, n_embd)\n",
    "        self.position_embedding_table = nn.Embedding(block_size, n_embd)\n",
    "        self.blocks = nn.Sequential(*[Block(n_embd, n_head=n_head) for _ in range(n_layer)])\n",
    "        self.ln_f = nn.LayerNorm(n_embd) # final layer norm\n",
    "        self.lm_head = nn.Linear(n_embd, vocab_size)\n",
    "\n",
    "    def forward(self, idx, targets=None):\n",
    "        B, T = idx.shape\n",
    "\n",
    "        # idx and targets are both (B,T) tensor of integers\n",
    "        tok_emb = self.token_embedding_table(idx) # (B,T,C)\n",
    "        pos_emb = self.position_embedding_table(torch.arange(T, device=device)) # (T,C)\n",
    "        x = tok_emb + pos_emb # (B,T,C)\n",
    "        x = self.blocks(x) # (B,T,C)\n",
    "        x = self.ln_f(x) # (B,T,C)\n",
    "        logits = self.lm_head(x) # (B,T,vocab_size)\n",
    "\n",
    "        if targets is None:\n",
    "            loss = None\n",
    "        else:\n",
    "            B, T, C = logits.shape\n",
    "            logits = logits.view(B*T, C)\n",
    "            targets = targets.view(B*T)\n",
    "            loss = F.cross_entropy(logits, targets)\n",
    "\n",
    "        return logits, loss\n",
    "\n",
    "    def generate(self, idx, max_new_tokens):\n",
    "        # idx is (B, T) array of indices in the current context\n",
    "        for _ in range(max_new_tokens):\n",
    "            # crop idx to the last block_size tokens\n",
    "            idx_cond = idx[:, -block_size:]\n",
    "            # get the predictions\n",
    "            logits, loss = self(idx_cond)\n",
    "            # focus only on the last time step\n",
    "            logits = logits[:, -1, :] # becomes (B, C)\n",
    "            # apply softmax to get probabilities\n",
    "            probs = F.softmax(logits, dim=-1) # (B, C)\n",
    "            # sample from the distribution\n",
    "            idx_next = torch.multinomial(probs, num_samples=1) # (B, 1)\n",
    "            # append sampled index to the running sequence\n",
    "            idx = torch.cat((idx, idx_next), dim=1) # (B, T+1)\n",
    "        return idx"
   ]
  },
  {
   "cell_type": "code",
   "execution_count": 12,
   "metadata": {},
   "outputs": [
    {
     "name": "stdout",
     "output_type": "stream",
     "text": [
      "0.209729 M parameters\n"
     ]
    }
   ],
   "source": [
    "model = BigramLanguageModel()\n",
    "m = model.to(device)\n",
    "# print the number of parameters in the model\n",
    "print(sum(p.numel() for p in m.parameters())/1e6, 'M parameters')"
   ]
  },
  {
   "cell_type": "code",
   "execution_count": 13,
   "metadata": {},
   "outputs": [
    {
     "name": "stdout",
     "output_type": "stream",
     "text": [
      "step 0: train loss 4.4112, val loss 4.4015, train perplexity 82.3993, val perplexity 81.5992\n",
      "step 100: train loss 2.6576, val loss 2.6632, train perplexity 14.2867, val perplexity 14.3680\n",
      "step 200: train loss 2.5119, val loss 2.5023, train perplexity 12.3440, val perplexity 12.2302\n",
      "step 300: train loss 2.4156, val loss 2.4310, train perplexity 11.2130, val perplexity 11.3902\n",
      "step 400: train loss 2.3516, val loss 2.3672, train perplexity 10.5188, val perplexity 10.6889\n",
      "step 500: train loss 2.3013, val loss 2.3223, train perplexity 10.0018, val perplexity 10.2168\n",
      "step 600: train loss 2.2554, val loss 2.2618, train perplexity 9.5545, val perplexity 9.6190\n",
      "step 700: train loss 2.2136, val loss 2.2233, train perplexity 9.1674, val perplexity 9.2590\n",
      "step 800: train loss 2.1601, val loss 2.1915, train perplexity 8.6861, val perplexity 8.9669\n",
      "step 900: train loss 2.1417, val loss 2.1512, train perplexity 8.5309, val perplexity 8.6102\n",
      "step 1000: train loss 2.1025, val loss 2.1319, train perplexity 8.2048, val perplexity 8.4471\n",
      "step 1100: train loss 2.0643, val loss 2.1148, train perplexity 7.8979, val perplexity 8.3049\n",
      "step 1200: train loss 2.0484, val loss 2.0962, train perplexity 7.7731, val perplexity 8.1539\n",
      "step 1300: train loss 2.0189, val loss 2.0635, train perplexity 7.5435, val perplexity 7.8909\n",
      "step 1400: train loss 2.0011, val loss 2.0466, train perplexity 7.4134, val perplexity 7.7570\n",
      "step 1500: train loss 1.9845, val loss 2.0368, train perplexity 7.2907, val perplexity 7.6826\n",
      "step 1600: train loss 1.9691, val loss 2.0421, train perplexity 7.1827, val perplexity 7.7298\n",
      "step 1700: train loss 1.9520, val loss 2.0310, train perplexity 7.0595, val perplexity 7.6418\n",
      "step 1800: train loss 1.9289, val loss 2.0227, train perplexity 6.8989, val perplexity 7.5791\n",
      "step 1900: train loss 1.9106, val loss 1.9836, train perplexity 6.7734, val perplexity 7.2909\n",
      "step 2000: train loss 1.9087, val loss 1.9972, train perplexity 6.7632, val perplexity 7.3859\n",
      "step 2100: train loss 1.8774, val loss 1.9683, train perplexity 6.5529, val perplexity 7.1758\n",
      "step 2200: train loss 1.8766, val loss 1.9640, train perplexity 6.5471, val perplexity 7.1479\n",
      "step 2300: train loss 1.8569, val loss 1.9601, train perplexity 6.4203, val perplexity 7.1153\n",
      "step 2400: train loss 1.8413, val loss 1.9430, train perplexity 6.3200, val perplexity 6.9964\n",
      "step 2500: train loss 1.8339, val loss 1.9423, train perplexity 6.2737, val perplexity 6.9941\n",
      "step 2600: train loss 1.8179, val loss 1.9322, train perplexity 6.1760, val perplexity 6.9276\n",
      "step 2700: train loss 1.8102, val loss 1.9417, train perplexity 6.1281, val perplexity 6.9898\n",
      "step 2800: train loss 1.7927, val loss 1.9285, train perplexity 6.0190, val perplexity 6.8984\n",
      "step 2900: train loss 1.7953, val loss 1.9364, train perplexity 6.0417, val perplexity 6.9538\n",
      "step 3000: train loss 1.7816, val loss 1.9105, train perplexity 5.9548, val perplexity 6.7773\n",
      "step 3100: train loss 1.7730, val loss 1.9040, train perplexity 5.9074, val perplexity 6.7316\n",
      "step 3200: train loss 1.7539, val loss 1.8907, train perplexity 5.7907, val perplexity 6.6450\n",
      "step 3300: train loss 1.7592, val loss 1.9020, train perplexity 5.8275, val perplexity 6.7202\n",
      "step 3400: train loss 1.7584, val loss 1.8898, train perplexity 5.8188, val perplexity 6.6412\n",
      "step 3500: train loss 1.7521, val loss 1.8938, train perplexity 5.7831, val perplexity 6.6651\n",
      "step 3600: train loss 1.7455, val loss 1.8907, train perplexity 5.7504, val perplexity 6.6449\n",
      "step 3700: train loss 1.7410, val loss 1.8842, train perplexity 5.7182, val perplexity 6.5997\n",
      "step 3800: train loss 1.7329, val loss 1.8856, train perplexity 5.6707, val perplexity 6.6067\n",
      "step 3900: train loss 1.7226, val loss 1.8692, train perplexity 5.6155, val perplexity 6.5060\n",
      "step 4000: train loss 1.7100, val loss 1.8607, train perplexity 5.5446, val perplexity 6.4497\n",
      "step 4100: train loss 1.7187, val loss 1.8495, train perplexity 5.5950, val perplexity 6.3807\n",
      "step 4200: train loss 1.7163, val loss 1.8537, train perplexity 5.5784, val perplexity 6.4058\n",
      "step 4300: train loss 1.7134, val loss 1.8476, train perplexity 5.5623, val perplexity 6.3653\n",
      "step 4400: train loss 1.6965, val loss 1.8512, train perplexity 5.4675, val perplexity 6.3895\n",
      "step 4500: train loss 1.6982, val loss 1.8443, train perplexity 5.4801, val perplexity 6.3446\n",
      "step 4600: train loss 1.6959, val loss 1.8375, train perplexity 5.4657, val perplexity 6.3047\n",
      "step 4700: train loss 1.6927, val loss 1.8354, train perplexity 5.4488, val perplexity 6.2894\n",
      "step 4800: train loss 1.6821, val loss 1.8408, train perplexity 5.3914, val perplexity 6.3270\n",
      "step 4900: train loss 1.6794, val loss 1.8275, train perplexity 5.3780, val perplexity 6.2400\n",
      "step 4999: train loss 1.6846, val loss 1.8343, train perplexity 5.4049, val perplexity 6.2882\n"
     ]
    }
   ],
   "source": [
    "# create a PyTorch optimizer\n",
    "optimizer = torch.optim.AdamW(model.parameters(), lr=learning_rate)\n",
    "\n",
    "start_time = time.time()\n",
    "for iter in range(max_iters):\n",
    "\n",
    "    # every once in a while evaluate the loss on train and val sets\n",
    "    if iter % eval_interval == 0 or iter == max_iters - 1:\n",
    "        losses = estimate_loss()\n",
    "        print(f\"step {iter}: train loss {losses['train_loss']:.4f}, val loss {losses['val_loss']:.4f}, train perplexity {losses['train_perplexity']:.4f}, val perplexity {losses['val_perplexity']:.4f}\")\n",
    "\n",
    "\n",
    "    # sample a batch of data\n",
    "    xb, yb = get_batch('train')\n",
    "\n",
    "    # evaluate the loss\n",
    "    logits, loss = model(xb, yb)\n",
    "    optimizer.zero_grad(set_to_none=True)\n",
    "    loss.backward()\n",
    "    optimizer.step()\n",
    "\n",
    "end_time = time.time()"
   ]
  },
  {
   "cell_type": "code",
   "execution_count": 14,
   "metadata": {},
   "outputs": [],
   "source": [
    "training_time = end_time - start_time"
   ]
  },
  {
   "cell_type": "code",
   "execution_count": 15,
   "metadata": {},
   "outputs": [
    {
     "name": "stdout",
     "output_type": "stream",
     "text": [
      "\n",
      "When thy bridlowing to on, by made\n",
      "That be doesant Ond my dalied\n",
      "My armithmed wick he that dilsh ane away, my feanst,\n",
      "An yet he owns, toffick your milknowled,\n",
      "Why, well, I in ladiHtled ov the heart not.\n",
      "\n",
      "WARWICK:\n",
      "Welpland me metthummer, with pray; and the tyear's\n",
      "Pale ormodeding well.\n",
      "\n",
      "GLOUCESTER:\n",
      "I'll Willo your piings wish\n",
      "Forst was in himed to-ongless; thume kingnest first of; worst must with aledgets,\n",
      "Madarry, I hometry your hasting is:\n",
      "Ardst Warwick to mining must aranny Irl tomen\n",
      "your volyounget, Poormary.\n",
      "You and gandst so a cemns one nomen.\n",
      "\n",
      "MARIARET:\n",
      "Reself:\n",
      "Be he will we commend muscory somets\n",
      "I thas lord\n",
      "Is as we lape askleshad aled hearly to-much.\n",
      "\n",
      "ROMEO:\n",
      "And meviciption: the has be fest talk:\n",
      "What's, shear! I known indeech, worxt your childed with\n",
      "were but we mes slevings; when, those lack.\n",
      "\n",
      "PETHINCY:\n",
      "We Iill have mink\n",
      "by the nair, do thing feot heard,\n",
      "AuGodt onnot the subme wipprings. what that the must pehelies kings as humant parback watch time wout in form;\n",
      "you gones ene'rlannal, we parlIived\n",
      "Of night what numponio, do privets to Edward,\n",
      "The brings preseemess amings sovery:\n",
      "Whichin indeen hight Warwast hide,\n",
      "And forCAh! abhy sevIntreds and intructiages be an bigkely doog! O, there's weep\n",
      "goonemmagine. \n",
      "DUKE OF AUMERLIRD: you had'st Hade\n",
      "shame uplelans.\n",
      "\n",
      "DUKE VINCENTIO:\n",
      "Ename for and Maurth?\n",
      "\n",
      "Secomand:\n",
      "Geve it is candon.\n",
      "\n",
      "Provodno:\n",
      "Slave your murds be: they officer,\n",
      "Offeth your the bance hold; I the and upon my wreechen must clegets as yeed:\n",
      "And arraw makes eneequar such.\n",
      "\n",
      "HERMIO:\n",
      "\n",
      "Morrans, evas; for but of a-hathere Clant.\n",
      "\n",
      "PEY:\n",
      "O, hereforewell, sair\n",
      "My even clearence hamed are parry him.\n",
      "\n",
      "LEONTES:\n",
      "O,-manroudd. I will wark a give afected,\n",
      "Thhird by as in't; surnicest have bloyy then: him wifle,\n",
      "But yet you machmorived to offrom liceonly talked at the say man intalk'd.\n",
      "\n",
      "BUCKINGHAM:\n",
      "Melike isliffore punict our side the are; when you.\n",
      "\n",
      "CORINGSHE EDWARD:\n",
      "No, anonsels, Joar attenned slan,\n",
      "Jury Riparling mustic shown'd for and a supperour heave on ouralie\n"
     ]
    }
   ],
   "source": [
    "# generate from the model\n",
    "context = torch.zeros((1, 1), dtype=torch.long, device=device)\n",
    "print(decode(m.generate(context, max_new_tokens=2000)[0].tolist()))"
   ]
  },
  {
   "cell_type": "code",
   "execution_count": 16,
   "metadata": {},
   "outputs": [],
   "source": [
    "def generate_sample(model, seed_text, max_new_tokens=100):\n",
    "    context = torch.tensor([encode(seed_text)], dtype=torch.long, device=device)\n",
    "    return decode(model.generate(context, max_new_tokens=max_new_tokens)[0].tolist())\n",
    "\n",
    "sample_text = generate_sample(model, \"The quick brown fox\")"
   ]
  },
  {
   "cell_type": "code",
   "execution_count": 18,
   "metadata": {},
   "outputs": [
    {
     "name": "stdout",
     "output_type": "stream",
     "text": [
      "Training Time: 158.03869318962097\n",
      "The quick brown foxs; enoughter that him?\n",
      "Why arm fellsed ingrearens, forge me, so the dead must have\n",
      "And the connot ou\n"
     ]
    }
   ],
   "source": [
    "\n",
    "print(f\"Training Time: {training_time}\")\n",
    "print(sample_text)"
   ]
  }
 ],
 "metadata": {
  "kernelspec": {
   "display_name": "tf-dev",
   "language": "python",
   "name": "python3"
  },
  "language_info": {
   "codemirror_mode": {
    "name": "ipython",
    "version": 3
   },
   "file_extension": ".py",
   "mimetype": "text/x-python",
   "name": "python",
   "nbconvert_exporter": "python",
   "pygments_lexer": "ipython3",
   "version": "3.9.19"
  }
 },
 "nbformat": 4,
 "nbformat_minor": 2
}
