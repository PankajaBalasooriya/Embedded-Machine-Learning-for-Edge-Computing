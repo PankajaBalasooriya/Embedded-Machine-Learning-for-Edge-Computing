{
 "cells": [
  {
   "cell_type": "code",
   "execution_count": 1,
   "metadata": {},
   "outputs": [],
   "source": [
    "import torch\n",
    "import torch.nn as nn\n",
    "from torch.nn import functional as F"
   ]
  },
  {
   "cell_type": "code",
   "execution_count": 2,
   "metadata": {},
   "outputs": [],
   "source": [
    "# hyperparameters\n",
    "batch_size = 16 # how many independent sequences will we process in parallel?\n",
    "block_size = 32 # what is the maximum context length for predictions?\n",
    "max_iters = 5000\n",
    "eval_interval = 100\n",
    "learning_rate = 1e-3\n",
    "device = 'cuda' if torch.cuda.is_available() else 'cpu'\n",
    "eval_iters = 200\n",
    "n_embd = 64\n",
    "n_head = 4\n",
    "n_layer = 4\n",
    "dropout = 0.0\n",
    "# ------------"
   ]
  },
  {
   "cell_type": "code",
   "execution_count": 3,
   "metadata": {},
   "outputs": [
    {
     "data": {
      "text/plain": [
       "<torch._C.Generator at 0x7efe10220e50>"
      ]
     },
     "execution_count": 3,
     "metadata": {},
     "output_type": "execute_result"
    }
   ],
   "source": [
    "torch.manual_seed(1337)"
   ]
  },
  {
   "cell_type": "code",
   "execution_count": 4,
   "metadata": {},
   "outputs": [],
   "source": [
    "# wget https://raw.githubusercontent.com/karpathy/char-rnn/master/data/tinyshakespeare/input.txt\n",
    "with open('input.txt', 'r', encoding='utf-8') as f:\n",
    "    text = f.read()"
   ]
  },
  {
   "cell_type": "code",
   "execution_count": 13,
   "metadata": {},
   "outputs": [
    {
     "name": "stdout",
     "output_type": "stream",
     "text": [
      "New Vocabulary size: 25673\n"
     ]
    }
   ],
   "source": [
    "# here are all the unique characters that occur in this text\n",
    "Newtext = text.replace('\\n',\" \").replace(\"\\n\\n\", \" \")\n",
    "words = sorted(list(set(Newtext.split(\" \"))))\n",
    "\n",
    "\n",
    "# chars = sorted(list(set(text)))\n",
    "\n",
    "words_size = len(words)\n",
    "print(f\"New Vocabulary size: {words_size}\")\n",
    "\n",
    "# vocab_size = len(chars)\n",
    "# create a mapping from characters to integers\n",
    "stoi = { ch:i for i,ch in enumerate(words) }\n",
    "itos = { i:ch for i,ch in enumerate(words) }\n",
    "encode = lambda s: [stoi[c] for c in s.split(\" \")] # encoder: take a string, output a list of integers\n",
    "decode = lambda l: ''.join([itos[i] for i in l]) # decoder: take a list of integers, output a string"
   ]
  },
  {
   "cell_type": "code",
   "execution_count": 14,
   "metadata": {},
   "outputs": [],
   "source": [
    "# Train and test splits\n",
    "data = torch.tensor(encode(Newtext), dtype=torch.long)\n",
    "n = int(0.9*len(data)) # first 90% will be train, rest val\n",
    "train_data = data[:n]\n",
    "val_data = data[n:]"
   ]
  },
  {
   "cell_type": "code",
   "execution_count": 15,
   "metadata": {},
   "outputs": [],
   "source": [
    "# data loading\n",
    "def get_batch(split):\n",
    "    # generate a small batch of data of inputs x and targets y\n",
    "    data = train_data if split == 'train' else val_data\n",
    "    ix = torch.randint(len(data) - block_size, (batch_size,))\n",
    "    x = torch.stack([data[i:i+block_size] for i in ix])\n",
    "    y = torch.stack([data[i+1:i+block_size+1] for i in ix])\n",
    "    x, y = x.to(device), y.to(device)\n",
    "    return x, y"
   ]
  },
  {
   "cell_type": "code",
   "execution_count": 23,
   "metadata": {},
   "outputs": [],
   "source": [
    "@torch.no_grad()\n",
    "def estimate_loss():\n",
    "    out = {}\n",
    "    model.eval()\n",
    "    for split in ['train', 'val']:\n",
    "        losses = torch.zeros(eval_iters)\n",
    "        for k in range(eval_iters):\n",
    "            X, Y = get_batch(split)\n",
    "            logits, loss = model(X, Y)\n",
    "            losses[k] = loss.item()\n",
    "        out[split] = losses.mean()\n",
    "    model.train()\n",
    "    return out\n",
    "\n",
    "class Head(nn.Module):\n",
    "    \"\"\" one head of self-attention \"\"\"\n",
    "\n",
    "    def __init__(self, head_size):\n",
    "        super().__init__()\n",
    "        self.key = nn.Linear(n_embd, head_size, bias=False)\n",
    "        self.query = nn.Linear(n_embd, head_size, bias=False)\n",
    "        self.value = nn.Linear(n_embd, head_size, bias=False)\n",
    "        self.register_buffer('tril', torch.tril(torch.ones(block_size, block_size)))\n",
    "\n",
    "        self.dropout = nn.Dropout(dropout)\n",
    "\n",
    "    def forward(self, x):\n",
    "        B,T,C = x.shape\n",
    "        k = self.key(x)   # (B,T,C)\n",
    "        q = self.query(x) # (B,T,C)\n",
    "        # compute attention scores (\"affinities\")\n",
    "        wei = q @ k.transpose(-2,-1) * C**-0.5 # (B, T, C) @ (B, C, T) -> (B, T, T)\n",
    "        wei = wei.masked_fill(self.tril[:T, :T] == 0, float('-inf')) # (B, T, T)\n",
    "        wei = F.softmax(wei, dim=-1) # (B, T, T)\n",
    "        wei = self.dropout(wei)\n",
    "        # perform the weighted aggregation of the values\n",
    "        v = self.value(x) # (B,T,C)\n",
    "        out = wei @ v # (B, T, T) @ (B, T, C) -> (B, T, C)\n",
    "        return out\n",
    "\n",
    "class MultiHeadAttention(nn.Module):\n",
    "    \"\"\" multiple heads of self-attention in parallel \"\"\"\n",
    "\n",
    "    def __init__(self, num_heads, head_size):\n",
    "        super().__init__()\n",
    "        self.heads = nn.ModuleList([Head(head_size) for _ in range(num_heads)])\n",
    "        self.proj = nn.Linear(n_embd, n_embd)\n",
    "        self.dropout = nn.Dropout(dropout)\n",
    "\n",
    "    def forward(self, x):\n",
    "        out = torch.cat([h(x) for h in self.heads], dim=-1)\n",
    "        out = self.dropout(self.proj(out))\n",
    "        return out\n",
    "\n",
    "class FeedFoward(nn.Module):\n",
    "    \"\"\" a simple linear layer followed by a non-linearity \"\"\"\n",
    "\n",
    "    def __init__(self, n_embd):\n",
    "        super().__init__()\n",
    "        self.net = nn.Sequential(\n",
    "            nn.Linear(n_embd, 4 * n_embd),\n",
    "            nn.GELU(),\n",
    "            nn.Linear(4 * n_embd, n_embd),\n",
    "            nn.Dropout(dropout),\n",
    "        )\n",
    "\n",
    "    def forward(self, x):\n",
    "        return self.net(x)\n",
    "\n",
    "class Block(nn.Module):\n",
    "    \"\"\" Transformer block: communication followed by computation \"\"\"\n",
    "\n",
    "    def __init__(self, n_embd, n_head):\n",
    "        # n_embd: embedding dimension, n_head: the number of heads we'd like\n",
    "        super().__init__()\n",
    "        head_size = n_embd // n_head\n",
    "        self.sa = MultiHeadAttention(n_head, head_size)\n",
    "        self.ffwd = FeedFoward(n_embd)\n",
    "        self.ln1 = nn.LayerNorm(n_embd)\n",
    "        self.ln2 = nn.LayerNorm(n_embd)\n",
    "\n",
    "    def forward(self, x):\n",
    "        x = x + self.sa(self.ln1(x))\n",
    "        x = x + self.ffwd(self.ln2(x))\n",
    "        return x\n",
    "\n",
    "# super simple bigram model\n",
    "class BigramLanguageModel(nn.Module):\n",
    "\n",
    "    def __init__(self):\n",
    "        super().__init__()\n",
    "        # each token directly reads off the logits for the next token from a lookup table\n",
    "        self.token_embedding_table = nn.Embedding(words_size, n_embd)\n",
    "        self.position_embedding_table = nn.Embedding(block_size, n_embd)\n",
    "        self.blocks = nn.Sequential(*[Block(n_embd, n_head=n_head) for _ in range(n_layer)])\n",
    "        self.ln_f = nn.LayerNorm(n_embd) # final layer norm\n",
    "        self.lm_head = nn.Linear(n_embd, words_size)\n",
    "\n",
    "    def forward(self, idx, targets=None):\n",
    "        B, T = idx.shape\n",
    "\n",
    "        # idx and targets are both (B,T) tensor of integers\n",
    "        tok_emb = self.token_embedding_table(idx) # (B,T,C)\n",
    "        pos_emb = self.position_embedding_table(torch.arange(T, device=device)) # (T,C)\n",
    "        x = tok_emb + pos_emb # (B,T,C)\n",
    "        x = self.blocks(x) # (B,T,C)\n",
    "        x = self.ln_f(x) # (B,T,C)\n",
    "        logits = self.lm_head(x) # (B,T,vocab_size)\n",
    "\n",
    "        if targets is None:\n",
    "            loss = None\n",
    "        else:\n",
    "            B, T, C = logits.shape\n",
    "            logits = logits.view(B*T, C)\n",
    "            targets = targets.view(B*T)\n",
    "            loss = F.cross_entropy(logits, targets)\n",
    "\n",
    "        return logits, loss\n",
    "\n",
    "    def generate(self, idx, max_new_tokens):\n",
    "        # idx is (B, T) array of indices in the current context\n",
    "        for _ in range(max_new_tokens):\n",
    "            # crop idx to the last block_size tokens\n",
    "            idx_cond = idx[:, -block_size:]\n",
    "            # get the predictions\n",
    "            logits, loss = self(idx_cond)\n",
    "            # focus only on the last time step\n",
    "            logits = logits[:, -1, :] # becomes (B, C)\n",
    "            # apply softmax to get probabilities\n",
    "            probs = F.softmax(logits, dim=-1) # (B, C)\n",
    "            # sample from the distribution\n",
    "            idx_next = torch.multinomial(probs, num_samples=1) # (B, 1)\n",
    "            # append sampled index to the running sequence\n",
    "            idx = torch.cat((idx, idx_next), dim=1) # (B, T+1)\n",
    "        return idx"
   ]
  },
  {
   "cell_type": "code",
   "execution_count": 24,
   "metadata": {},
   "outputs": [
    {
     "name": "stdout",
     "output_type": "stream",
     "text": [
      "3.513161 M parameters\n"
     ]
    }
   ],
   "source": [
    "model = BigramLanguageModel()\n",
    "m = model.to(device)\n",
    "# print the number of parameters in the model\n",
    "print(sum(p.numel() for p in m.parameters())/1e6, 'M parameters')"
   ]
  },
  {
   "cell_type": "code",
   "execution_count": 25,
   "metadata": {},
   "outputs": [
    {
     "name": "stdout",
     "output_type": "stream",
     "text": [
      "step 0: train loss 10.3560, val loss 10.3523\n",
      "step 100: train loss 7.6274, val loss 7.8636\n",
      "step 200: train loss 7.4592, val loss 7.7730\n",
      "step 300: train loss 7.2986, val loss 7.6591\n",
      "step 400: train loss 7.1343, val loss 7.5597\n",
      "step 500: train loss 6.9710, val loss 7.5373\n",
      "step 600: train loss 6.8633, val loss 7.4666\n",
      "step 700: train loss 6.7357, val loss 7.4144\n",
      "step 800: train loss 6.6397, val loss 7.4085\n",
      "step 900: train loss 6.5796, val loss 7.3740\n",
      "step 1000: train loss 6.4970, val loss 7.3431\n",
      "step 1100: train loss 6.3792, val loss 7.3873\n",
      "step 1200: train loss 6.3118, val loss 7.3629\n",
      "step 1300: train loss 6.2219, val loss 7.3690\n",
      "step 1400: train loss 6.1447, val loss 7.4502\n",
      "step 1500: train loss 6.0505, val loss 7.4001\n",
      "step 1600: train loss 5.9990, val loss 7.4470\n",
      "step 1700: train loss 5.9412, val loss 7.4422\n",
      "step 1800: train loss 5.8461, val loss 7.4674\n",
      "step 1900: train loss 5.7794, val loss 7.4692\n",
      "step 2000: train loss 5.7259, val loss 7.5376\n",
      "step 2100: train loss 5.6944, val loss 7.5310\n",
      "step 2200: train loss 5.5977, val loss 7.5693\n",
      "step 2300: train loss 5.5530, val loss 7.6047\n",
      "step 2400: train loss 5.4606, val loss 7.6279\n",
      "step 2500: train loss 5.4257, val loss 7.6539\n",
      "step 2600: train loss 5.3907, val loss 7.7394\n",
      "step 2700: train loss 5.3428, val loss 7.7439\n",
      "step 2800: train loss 5.2751, val loss 7.7699\n",
      "step 2900: train loss 5.2363, val loss 7.7779\n",
      "step 3000: train loss 5.1564, val loss 7.8318\n",
      "step 3100: train loss 5.1276, val loss 7.8558\n",
      "step 3200: train loss 5.0594, val loss 7.8626\n",
      "step 3300: train loss 5.0305, val loss 7.9361\n",
      "step 3400: train loss 4.9918, val loss 7.9596\n",
      "step 3500: train loss 4.9343, val loss 8.0187\n",
      "step 3600: train loss 4.8841, val loss 7.9959\n",
      "step 3700: train loss 4.8532, val loss 8.0988\n",
      "step 3800: train loss 4.7874, val loss 8.0919\n",
      "step 3900: train loss 4.7720, val loss 8.1805\n",
      "step 4000: train loss 4.7313, val loss 8.2021\n",
      "step 4100: train loss 4.7193, val loss 8.2147\n",
      "step 4200: train loss 4.6366, val loss 8.2511\n",
      "step 4300: train loss 4.6025, val loss 8.2805\n",
      "step 4400: train loss 4.5911, val loss 8.3358\n",
      "step 4500: train loss 4.5233, val loss 8.3978\n",
      "step 4600: train loss 4.5062, val loss 8.3543\n",
      "step 4700: train loss 4.4795, val loss 8.4177\n",
      "step 4800: train loss 4.4218, val loss 8.4394\n",
      "step 4900: train loss 4.3977, val loss 8.4946\n",
      "step 4999: train loss 4.3498, val loss 8.5512\n"
     ]
    }
   ],
   "source": [
    "# create a PyTorch optimizer\n",
    "optimizer = torch.optim.AdamW(model.parameters(), lr=learning_rate)\n",
    "\n",
    "for iter in range(max_iters):\n",
    "\n",
    "    # every once in a while evaluate the loss on train and val sets\n",
    "    if iter % eval_interval == 0 or iter == max_iters - 1:\n",
    "        losses = estimate_loss()\n",
    "        print(f\"step {iter}: train loss {losses['train']:.4f}, val loss {losses['val']:.4f}\")\n",
    "\n",
    "    # sample a batch of data\n",
    "    xb, yb = get_batch('train')\n",
    "\n",
    "    # evaluate the loss\n",
    "    logits, loss = model(xb, yb)\n",
    "    optimizer.zero_grad(set_to_none=True)\n",
    "    loss.backward()\n",
    "    optimizer.step()\n"
   ]
  },
  {
   "cell_type": "code",
   "execution_count": 26,
   "metadata": {},
   "outputs": [
    {
     "name": "stdout",
     "output_type": "stream",
     "text": [
      "ESCALUS:Well,staytothewaningandthefornicatressyourgood;WheretoIhavemurderedSheinyourlastIamnotasbecometothecausetobecrackingcolour;thealtitudeoftheirhearts:Androbwhatnoisewastoosoon,Toalltheirsouls;andformyrealm;nowifyouwereappareltakeparticularEDWARD:Welcome,mylord.LADYGREY:What,willyoutothatShouldeveryouhavemoreforthechangemymasterbrothertobedone,AndtenderdutyThanHarrynurse,isCarlislewellaccusationandnearwatching.AndtherehathyetwebeaministerHisplate,twotopluckoutofGod,WithhardbyhimthatwickedfullofthefeeColdofFrance,hopingWhosedeadlyservantToaladythoughtsAndstillbymyage.CATESBY:Mylord,thisyoushallplease.KINGRICHARDIII:But,gowithyou,father.BUCKINGHAM:withmythoughts'fellows,'tissadorelsewillwesetthecrownoncebringforthyourremembrances:presently.lookout,andcheerfully;Edward,cannothavemuchoppress'dgrief;Doslaintobegooddietomorrow.BUCKINGHAM:To-morrow,takemelast,indoomandyourstateofmydevotionToyouall!KINGRICHARDII:I'llpowertoprison!LUCENTIO:sicklinessBecauseImean,andie,andcry'ChargeonWednesdaythyself:Elsemoreswift?Hours,gettheetheeincrueldeaththechase,toyourformoftheeldestgrowingandwomenwhencethatyounowdeliveredmefromtheinstantdieinaSomeNeapolitan,And,worldison;Whatthatmistressifthouarttell?forbringinggone,andhalf.MONTAGUE:Someallmyheart!KINGRICHARDIII:Why,gentleWarwick,hastthoubeeninhope.Sheriff:Imustbear?it'swill,andmylordareoutgrownAndthouwithdrawnthoughsadearth,Divinehimwheresoe'erhesodeepinthegroundThewishshouldstealthemore,ofthelashofourwordshaveIwouldnotspeakagainTillourgeneralotherssituponthecoronation.Andnotthisgrievenodelay,ofhope--warriors,andhonour,playersAsthoughtsInwhatsummersalove,therecomeshonourletmemeetandyousorry;craveswithtrouble:totheworld:Yourbreast.DUKEVINCENTIO:TheseJuliettheconstable'sEndofyouropinion,heisElysiumSomelifeandThecommonwealthbytheCapel'smonument.ANGELO:Goodatyrant,Evenitfititnotsoblench?Whoseweaktotheedown,AndIcallthememoryofsoitwerehavelaidThatfromme,betoenforcemyusurp'stbythefont,Buthaveyoushallwellassuredabarrengood.CAMILLO:Ithoughtit,Tranio.AUTOLYCUS:reflectbeseechyou,comfortwrongyouareinyourhead.DUKEVINCENTIO:Ifthinkyouwhat,formeyet?cryamen.Howcanyouknewwelovetheyhavewetwosuch,anotherbutjestedanettleLookyou,avoid:andtalkofmyshroudthepartsofme,andcome,unsavourydeservewehavenothavegone,beseechsowithsonearthesun.TheVolsceswasnotmuchmasksProclaimasenemies.ARCHIDAMUS:Ofnoblesuspected,asyouarefastbeforeinaformreignisgoingasyou,scoldingcrookbackthaninnocency,wouldyouknowthesubjectthat,byinhispardon,Aswegivealone.Yougivehimtogivehimwhentimethinkdown,yourroyalcourt,yourroyalhouse,butwouldhene'erproclaimhim?RATCLIFF:Andunavoidedismyname!OrelseholdtoallthekingthatwayTosetagainstthekinginthedeep--mouth'dbrach.Saw'stmaidsthatsetstheseeighteenthewhite-upturnedbestofseniory,Which,ontheripeanduprightCome,honouraresohighfortune!HonestprofessSirgods,AndI'llpluckthenursethanthingsshallthegreat'staboveimprisonmentyettheysay,soseducewewillnotsendslavestothem:inhate,Andintheirfaitharelikeredresschange?LEONTES:Thou,Montaguewithpeace,whatstoreofthine,Unlessitbelong;Meantime,whatcouldbear;Forvalourcangobearavow;MaywiththeircountryquittedTotheregalthrone.MENENIUS:O,whatyoulie:COMINIUS:O,then;How!PerditaYourguest,Iwitnessdesireyoumustspeakher.MARCIUS:Haveyou,sweetvoices!Yourways,Ay,anddonotdrawthegravecounsel;HehathbrownButinnoblefairVerona;foolsifnearthesea?Whathemaybenew-christen'dgivemelikeyouarewellforourcompell'd'TisyoungbringusinApril'slaceitthevirtuousfootwithaword:Sosowewillheardhertopleaseyou,Theapprehensionandmoveables,alwayslisten;Reportthebed,WarwickandturnthedearthEreinvolume.thetimeinstructourwebensnarethmineeyes,play.ittedious,I'llnotstealthemselves.PhysictendingtomakeusIfeveryouhavebestow'dyourinstruction,tillYourgueststocatchgivinghimindeed,beyourarmy;foryoursightofHereford,horn,--orheard,--myback,mylips.GetGoddosweatcommendyou,lords?GodpardonKingdeath,Idoknow;recallhismotherforanatureofneedfulornamentsAh,Montague,isnothingnotminewaytotheDukeofWarwick,andforsworeandWithandwhoaretheyhaveappear'dnotwhereonnotreason,Firstourhandsandotherswillspeakwithhisto-morrow;to-morrow,Thecentreanettle'twasevil,Incliningofthetable.Bymineowninstruction,And,nay,withallfaiththroughthetwo?palace,mygraciousgivesGodabove,Andstayagainstthyheadinhiscries,andwretchedbeborneGLOUCESTER:Bothyousilentandheart-sorrowingWarwick,whyevenonlaw,Onbackwithawordwithslowermethod,Takeashe,myforgiveandBerkeleyfatheraskforthmeasureToTybalt'softhefortedflourish;Let'ttherebegoneandBarnardine.Howthatyoucanpattern,takeorderforus.SecondLady:surveythematter,thistoyou,dukeswithyou.AUTOLYCUS:I'llsendhimupthestatueofthispointO'er-cover'dwithswordswithjoyandCoriolanus.Clown:Come,hecomesthepeople.ThirdCitizen:ThekingEDWARDIV:Sir,letthebellywiththefruitofthis:pardonthatpassageyouknowit,ourreasons:Iwillnotyoudisturbourdaughter.CLARENCE:O,shouldgraciousJusticeOurhis.MENENIUS:Shamwithhimobeisance.we'llIburynameoftellinghimself:Ifeveronceknowhimsay,hewereleftthemveryacquaintedtoo.MENENIUS:Wondrous!askednotbeanddevils,himmyfaith,butsetmerelyfertilityIgiveyou,Butbyherattheblacker!Ifrememberminetomakehim.SICINIUS:Here'swhat?SICINIUS:YouaregivenmeonandwhatYouractionsisnotstill,ofaction.Whatifthewaysurfeitso'thefaceshallnevercanlookyou,delivermewithus?GLOUCESTER:YourmotherofHereford,and,theymustdiehere,rapher:Someonedothlie;Saytheyareweigh'd:CATESBY:Peace,for--Andoftentheybedreaded.BUCKINGHAM:Now,graciousfather'sbrother'sRichardWiltthoudrunkstock-fishes.Sogentledozenthee.GLOUCESTER:Ouragain.GLOUCESTER:MakesourfirstknavehathofWarwick,andleaveyou.KINGRICHARDIII:Ay,boy.IfIhearhellandbringEdward,sir,Fordisturbingyou,dothink.LADYGREY:MybrothershallIreturntocallmypurpose.FirstMusician:Thenletbeoneprettyandtrouble:toqueen,toyougood.HENRYPERCY:Sayyou.GLOUCESTER:WhichinEDWARDIV:GLOUCESTER:Wellguess'd,then,thee,lady,stayinthyglorytounfold,hereinThomasLovelleavetheguiltybethine,Helovesmadethecontentsandhavemadeaction.CLARENCE:Whatproclamation,do,goback.Sweetstrikeup!Messenger:Mylord,heislovetogether,Howaccompanied?isthemwhatcheeryouplease;CLARENCE:Buttheyareyoutheencountersuch,well;andtakesuchrelation.Fortheyarefledtokeepherso.MENENIUS:Why,whatyourbrother?COMINIUS:Cannotwasnomorepiercingpartingshallyoucometochargeontheroyalson:Ihaveleftamanofalicencewithaapology?forhistearsthusboldlyforhisliningAndifhisfriendsshouldinpossessionanduprightwit,thoseattemptitdoth.Benature,thus;Whichisaholyman,beasail,inhisyouthWiththesoundly,crack.bytheworld'shate,Ragozine,somehopeTosuchasfastones,me.LEONTES:Thenknow,andyou!Awaywithher,goandnotsightedtoknowthesegeneralCourageousQUEENELIZABETH:Stay,myhand,Thedaughterofthine,Unlesshewillhavemoreproudlier,he'sthenmightsolaceforIwouldsave,frommehavemoresoundly.GLOUCESTER:Whatsaysknave:that,insteadisaslugofwoeransomed,choicethouBeforenotvextheetoabanish'dthatsevenlife,TeachingandunfashionableMybrotherButevennow.KINGRICHARDIII:Myking,woe'sif'tisdaybothobserveitsweetwithtwoofsubstanceandslanderyouhavemademeinthisrobewithyou.GLOUCESTER:Whereisthyheart.LADYANNE:Whomhissonthounotbeendidtellhim:thouhadstyetmournWhendaythoufailfor.CATESBY:GodkeepawakenothingcansithisJackprunes;thereforewillbefather?You'llbearformethelustfulLestIwillmerrilybeabletothee.KINGHENRYVI:'Tishastdone,mydesign,to-morrowbeingsleephere,away;Tybalt,theoratormeetsaloudButBarnardinemayblowo'Thursday,asweareasweHadyouareabsent.foryourelectionHavemoreheadselse.CLARENCE:Methoughtsaboxonthat,ofnoblecunning:youareholydescant:Cannotbeadvanced:ANTIGONUS:IfImusttruly.FirstCitizen:Ay,sir,webeswornsir,bringinpoint.ELBOW:Comeon,wholesomestI'llnotdesirethetestedAfterthefriarandthepleasureincourtesyshow'dforth.Onceintheskies?Hehathhangedexecuted.DUKEVINCENTIO:Comeon,go,Well;byGod--meat,me,beconsul:Ismercy,herehardagainstthatwrong'ditmakesthemselves.Physicshow'dushe'llmiseriesjudgeforbehusbandedtoRichmond?JOHNOFGAUNT:HowIwillhencebymysceptre'sservice.DORCAS:Meinthatyourgracewithsuchinventionofgovernment,Is'tlawful,WhenIhavedeservedsister.FLORIZEL:Drawothersbeswornenough;AsyouintheCapel'smonument.MENENIUS:Agooddirection,foryourverseintelligenceIamDeathandmake'sfather,presently.thepeopleMustbeartheprinces,manyusHearme,whenhegoes,hisbegot;ToaLadyLucy--it,lethisplace.HASTINGS:Mylordchamberlain!thatnestsoonpreysImakeus?Takenoprofitoneofoncoldcheek,whichmyregard,And,letherhenceallthatIbe;Butshe,Whichwearemad;ThusplatedwhilstIwillnoneinthefieldAsthisgooddeedtoLudlow.Oearth,Unlawfullybyhim?FirstConspirator:RIVERS:Thecrowninyourgardenman'sBushy,Readytobepunishedthathepitchtogetinthought.Ifalltheoldtime,hereisspent.Athousandstrong,Whichintheforestwehereshallnotpromisewithourbusiness,thouwhatwebelaughs.Adieu,buttheissueofstealLewisofGloucesterToldme,thatmadedreamintheheavyripeandquiteseemed\n"
     ]
    }
   ],
   "source": [
    "# generate from the model\n",
    "context = torch.zeros((1, 1), dtype=torch.long, device=device)\n",
    "print(decode(m.generate(context, max_new_tokens=2000)[0].tolist()))"
   ]
  }
 ],
 "metadata": {
  "kernelspec": {
   "display_name": "tf-dev",
   "language": "python",
   "name": "python3"
  },
  "language_info": {
   "codemirror_mode": {
    "name": "ipython",
    "version": 3
   },
   "file_extension": ".py",
   "mimetype": "text/x-python",
   "name": "python",
   "nbconvert_exporter": "python",
   "pygments_lexer": "ipython3",
   "version": "3.9.19"
  }
 },
 "nbformat": 4,
 "nbformat_minor": 2
}
